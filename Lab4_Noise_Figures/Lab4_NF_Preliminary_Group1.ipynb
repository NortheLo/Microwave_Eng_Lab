{
 "cells": [
  {
   "cell_type": "markdown",
   "id": "de2a4eae",
   "metadata": {},
   "source": [
    "# Preparation for Lab 4 from Group 1 (Wörner, Velez, Northe)"
   ]
  },
  {
   "cell_type": "markdown",
   "id": "2e482298",
   "metadata": {},
   "source": [
    "The source code and the binaries from this report can be found in our Github [repository](https://github.com/NortheLo/Microwave_Eng_Lab/tree/main/Lab4_Noise_Figures)."
   ]
  },
  {
   "cell_type": "markdown",
   "id": "d7253002",
   "metadata": {},
   "source": [
    "### Import libs"
   ]
  },
  {
   "cell_type": "code",
   "execution_count": 7,
   "id": "015984a9",
   "metadata": {},
   "outputs": [],
   "source": [
    "import numpy as np"
   ]
  },
  {
   "cell_type": "markdown",
   "id": "c8fd4087",
   "metadata": {},
   "source": [
    "### Helper functions"
   ]
  },
  {
   "cell_type": "code",
   "execution_count": 8,
   "id": "420a5061",
   "metadata": {},
   "outputs": [],
   "source": [
    "db2lin = lambda db: 10**(db / 10)\n",
    "\n",
    "lin2db = lambda g: 10 * np.log10(g)"
   ]
  },
  {
   "cell_type": "markdown",
   "id": "8b751477",
   "metadata": {},
   "source": [
    "## 3.1 Exercise 1"
   ]
  },
  {
   "cell_type": "markdown",
   "id": "e5af6074",
   "metadata": {},
   "source": [
    "Given values are"
   ]
  },
  {
   "cell_type": "code",
   "execution_count": 9,
   "id": "b8502ad5",
   "metadata": {},
   "outputs": [],
   "source": [
    "P_s_ref = 23    # [dBm] desired signal level\n",
    "P_n     = 6     # [dbm] noise level\n",
    "Att     = 15    # [dB] attenuation\n",
    "\n",
    "G_amp   = 18    # [dB] Gain amplifier\n",
    "NF_amp  = 3     # [db] Noise Figure amplifier"
   ]
  },
  {
   "cell_type": "markdown",
   "id": "d785f295",
   "metadata": {},
   "source": [
    "Amp before"
   ]
  },
  {
   "cell_type": "code",
   "execution_count": 13,
   "id": "3ba49593",
   "metadata": {},
   "outputs": [
    {
     "name": "stdout",
     "output_type": "stream",
     "text": [
      "SNR at input: 17.00\n",
      "SNR at output: -1.00\n"
     ]
    }
   ],
   "source": [
    "SNR_in_dB = P_s_ref - P_n\n",
    "\n",
    "P_s1 = P_s_ref + G_amp - Att                  \n",
    "P_n1 = P_n + G_amp + NF_amp - Att + Att \n",
    "\n",
    "SNR1_dB = P_s1 - P_n1\n",
    "\n",
    "print(f\"SNR at input: {SNR_in_dB:.2f}\")\n",
    "print(f\"SNR at output: {SNR1_dB:.2f}\")"
   ]
  },
  {
   "cell_type": "markdown",
   "id": "55f1b1a4",
   "metadata": {},
   "source": [
    "Amp after"
   ]
  },
  {
   "cell_type": "code",
   "execution_count": null,
   "id": "199a665b",
   "metadata": {},
   "outputs": [],
   "source": []
  },
  {
   "cell_type": "markdown",
   "id": "030f1ff9",
   "metadata": {},
   "source": [
    "Comparison"
   ]
  },
  {
   "cell_type": "code",
   "execution_count": null,
   "id": "ff449236",
   "metadata": {},
   "outputs": [],
   "source": []
  },
  {
   "cell_type": "markdown",
   "id": "da888c8d",
   "metadata": {},
   "source": [
    "Noise Figure of the line"
   ]
  },
  {
   "cell_type": "code",
   "execution_count": null,
   "id": "48ef7534",
   "metadata": {},
   "outputs": [],
   "source": []
  },
  {
   "cell_type": "markdown",
   "id": "413d99ba",
   "metadata": {},
   "source": [
    "## 3.2 Exercise 2"
   ]
  },
  {
   "cell_type": "markdown",
   "id": "8f6edb08",
   "metadata": {},
   "source": [
    "Insert solution here"
   ]
  },
  {
   "cell_type": "markdown",
   "id": "2ce1eda7",
   "metadata": {},
   "source": [
    "## 3.3 Exercise 3"
   ]
  },
  {
   "cell_type": "markdown",
   "id": "16363163",
   "metadata": {},
   "source": [
    " Insert solution here"
   ]
  },
  {
   "cell_type": "markdown",
   "id": "d0a8ddb1",
   "metadata": {},
   "source": [
    "## 3.4 Exercise 4"
   ]
  },
  {
   "cell_type": "markdown",
   "id": "be613339",
   "metadata": {},
   "source": [
    "Insert solution here"
   ]
  }
 ],
 "metadata": {
  "kernelspec": {
   "display_name": ".venv",
   "language": "python",
   "name": "python3"
  },
  "language_info": {
   "codemirror_mode": {
    "name": "ipython",
    "version": 3
   },
   "file_extension": ".py",
   "mimetype": "text/x-python",
   "name": "python",
   "nbconvert_exporter": "python",
   "pygments_lexer": "ipython3",
   "version": "3.13.0"
  }
 },
 "nbformat": 4,
 "nbformat_minor": 5
}
