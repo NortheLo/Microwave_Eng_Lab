{
 "cells": [
  {
   "cell_type": "markdown",
   "id": "de2a4eae",
   "metadata": {},
   "source": [
    "# Preparation for Lab 4 from Group 1 (Wörner, Velez, Northe)"
   ]
  },
  {
   "cell_type": "markdown",
   "id": "2e482298",
   "metadata": {},
   "source": [
    "The source code and the binaries from this report can be found in our Github [repository](https://github.com/NortheLo/Microwave_Eng_Lab/tree/main/Lab4_Noise_Figures)."
   ]
  },
  {
   "cell_type": "markdown",
   "id": "8b751477",
   "metadata": {},
   "source": [
    "## 3.1 Exercise 1"
   ]
  },
  {
   "cell_type": "markdown",
   "id": "b8502ad5",
   "metadata": {},
   "source": [
    "Insert solution here"
   ]
  },
  {
   "cell_type": "markdown",
   "id": "413d99ba",
   "metadata": {},
   "source": [
    "## 3.2 Exercise 2"
   ]
  },
  {
   "cell_type": "markdown",
   "id": "8f6edb08",
   "metadata": {},
   "source": [
    "Insert solution here"
   ]
  },
  {
   "cell_type": "markdown",
   "id": "2ce1eda7",
   "metadata": {},
   "source": [
    "## 3.3 Exercise 3"
   ]
  },
  {
   "cell_type": "markdown",
   "id": "16363163",
   "metadata": {},
   "source": [
    " Insert solution here"
   ]
  },
  {
   "cell_type": "markdown",
   "id": "d0a8ddb1",
   "metadata": {},
   "source": [
    "## 3.4 Exercise 4"
   ]
  },
  {
   "cell_type": "markdown",
   "id": "be613339",
   "metadata": {},
   "source": [
    "Insert solution here"
   ]
  }
 ],
 "metadata": {
  "language_info": {
   "name": "python"
  }
 },
 "nbformat": 4,
 "nbformat_minor": 5
}
