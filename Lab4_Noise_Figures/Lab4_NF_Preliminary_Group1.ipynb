{
 "cells": [
  {
   "cell_type": "markdown",
   "id": "de2a4eae",
   "metadata": {},
   "source": [
    "# Preparation for Lab 4 from Group 1 (Wörner, Velez, Northe)"
   ]
  },
  {
   "cell_type": "markdown",
   "id": "2e482298",
   "metadata": {},
   "source": [
    "The source code and the binaries from this report can be found in our Github [repository](https://github.com/NortheLo/Microwave_Eng_Lab/tree/main/Lab4_Noise_Figures)."
   ]
  },
  {
   "cell_type": "markdown",
   "id": "d7253002",
   "metadata": {},
   "source": [
    "### Import libs"
   ]
  },
  {
   "cell_type": "code",
   "execution_count": 113,
   "id": "015984a9",
   "metadata": {},
   "outputs": [],
   "source": [
    "import numpy as np\n",
    "from scipy.constants import Boltzmann"
   ]
  },
  {
   "cell_type": "markdown",
   "id": "c8fd4087",
   "metadata": {},
   "source": [
    "### Helper constants and functions"
   ]
  },
  {
   "cell_type": "code",
   "execution_count": 114,
   "id": "420a5061",
   "metadata": {},
   "outputs": [],
   "source": [
    "k_B = Boltzmann     # Boltzman constant\n",
    "\n",
    "db2lin = lambda db: 10**(db / 10)\n",
    "\n",
    "lin2db = lambda g: 10 * np.log10(g)\n",
    "\n",
    "lin2dBm = lambda g: lin2db(g/1e-3)\n",
    "\n",
    "def scientific_2_str(value: float, unit: str = \"Ω\") -> str:\n",
    "    prefixes = [\n",
    "        (1e9, 'G'),\n",
    "        (1e6, 'M'),\n",
    "        (1e3, 'k'),\n",
    "        (1, ''),\n",
    "        (1e-3, 'm'),\n",
    "        (1e-6, 'µ'),\n",
    "        (1e-9, 'n'),\n",
    "        (1e-12, 'p')\n",
    "    ]\n",
    "\n",
    "    for factor, prefix in prefixes:\n",
    "        if abs(value) >= factor:\n",
    "            formatted = value / factor\n",
    "            return f\"{formatted:.3g} {prefix}{unit}\"\n",
    "    return f\"{value:.3g} {unit}\"  # fallback for very small values"
   ]
  },
  {
   "cell_type": "markdown",
   "id": "8b751477",
   "metadata": {},
   "source": [
    "## 3.1 Exercise 1"
   ]
  },
  {
   "cell_type": "markdown",
   "id": "e5af6074",
   "metadata": {},
   "source": [
    "Given values are"
   ]
  },
  {
   "cell_type": "code",
   "execution_count": 115,
   "id": "b8502ad5",
   "metadata": {},
   "outputs": [],
   "source": [
    "P_s_ref = 23    # [dBm] desired signal level\n",
    "P_n     = 6     # [dbm] noise level\n",
    "Att     = 15    # [dB] attenuation\n",
    "\n",
    "G_amp   = 18    # [dB] Gain amplifier\n",
    "NF_amp  = 3     # [db] Noise Figure amplifier\n",
    "\n",
    "T_0     = 290   # [K] Room Temperature"
   ]
  },
  {
   "cell_type": "code",
   "execution_count": 116,
   "id": "ffa80894",
   "metadata": {},
   "outputs": [],
   "source": [
    "P_s_lin = db2lin(P_s_ref)\n",
    "P_n_lin = db2lin(P_n)\n",
    "Att_lin = db2lin(Att)\n",
    "\n",
    "G_amp_lin = db2lin(G_amp)\n",
    "NF_amp_lin = db2lin(NF_amp)"
   ]
  },
  {
   "cell_type": "markdown",
   "id": "d785f295",
   "metadata": {},
   "source": [
    "Amp before line"
   ]
  },
  {
   "cell_type": "code",
   "execution_count": 117,
   "id": "3ba49593",
   "metadata": {},
   "outputs": [
    {
     "name": "stdout",
     "output_type": "stream",
     "text": [
      "SNR at input: 17.00 dB\n",
      "SNR after LNA->Line output: 13.05 dB\n"
     ]
    }
   ],
   "source": [
    "SNR_i = P_s_ref - P_n\n",
    "SNR_i_lin = db2lin(SNR_i)\n",
    "\n",
    "F = NF_amp_lin + (Att_lin - 1) / G_amp_lin\n",
    "\n",
    "SNR_o_lin = SNR_i_lin / F\n",
    "SNR_o = lin2db(SNR_o_lin)\n",
    "\n",
    "print(f\"SNR at input: {SNR_i:.2f} dB\")\n",
    "print(f\"SNR after LNA->Line output: {SNR_o:.2f} dB\")"
   ]
  },
  {
   "cell_type": "markdown",
   "id": "55f1b1a4",
   "metadata": {},
   "source": [
    "Amp after line"
   ]
  },
  {
   "cell_type": "code",
   "execution_count": 118,
   "id": "199a665b",
   "metadata": {},
   "outputs": [
    {
     "name": "stdout",
     "output_type": "stream",
     "text": [
      "SNR at input: 17.00 dB\n",
      "SNR after Line->LNA output: -1.00 dB\n",
      "NF of Line 18.0 dB\n"
     ]
    }
   ],
   "source": [
    "SNR_i = P_s_ref - P_n\n",
    "SNR_i_lin = db2lin(SNR_i)\n",
    "\n",
    "T = T_0\n",
    "F_line = 1 + (Att_lin - 1) * T / T_0\n",
    "\n",
    "F = F_line + (NF_amp_lin - 1) / (1 / Att_lin)\n",
    "NF = lin2db(F)\n",
    "\n",
    "SNR_o_lin = SNR_i_lin / F\n",
    "SNR_o = lin2db(SNR_o_lin)\n",
    "\n",
    "print(f\"SNR at input: {SNR_i:.2f} dB\")\n",
    "print(f\"SNR after Line->LNA output: {SNR_o:.2f} dB\")\n",
    "print(f\"NF of Line {NF} dB\")"
   ]
  },
  {
   "cell_type": "markdown",
   "id": "3945cbf5",
   "metadata": {},
   "source": [
    "Justification: <br>\n",
    "As we can see is the $G_{LNA}$ in the second case unused, therefore we are basically just subtracting the $NF_{Line}$ from our Signal. "
   ]
  },
  {
   "cell_type": "markdown",
   "id": "413d99ba",
   "metadata": {},
   "source": [
    "## 3.2 Exercise 2"
   ]
  },
  {
   "cell_type": "code",
   "execution_count": 119,
   "id": "8c090157",
   "metadata": {},
   "outputs": [],
   "source": [
    "T_A         = 150   # [K] equivalent temp of antenna\n",
    "BW_IF       = 10e6  # [Hz] BW of IF signal\n",
    "\n",
    "# LNA\n",
    "G_amp       = 10    # [dB]\n",
    "F_a         = 2     # [dB]\n",
    "\n",
    "# Bandpass Filter\n",
    "L_bpf       = 1     # [dB]\n",
    "\n",
    "# Mixer values\n",
    "L_mix       = 3     # [dB]\n",
    "F_mix       = 4     # [dB]\n",
    "\n",
    "SNR_min     = 20     # [dB] \n",
    "Z_0         = 50     # [Ohm]"
   ]
  },
  {
   "cell_type": "code",
   "execution_count": 120,
   "id": "b3aea6c9",
   "metadata": {},
   "outputs": [],
   "source": [
    "G_amp_lin = db2lin(G_amp)\n",
    "F_a_lin = db2lin(F_a)\n",
    "L_bpf_lin = db2lin(L_bpf)\n",
    "L_mix_lin = db2lin(L_mix)\n",
    "F_mix_lin = db2lin(F_mix)"
   ]
  },
  {
   "cell_type": "code",
   "execution_count": 121,
   "id": "d4bf048b",
   "metadata": {},
   "outputs": [
    {
     "name": "stdout",
     "output_type": "stream",
     "text": [
      "Noise power Antenna: -107 dBm\n",
      "Output Noise Power: -104 dBm\n"
     ]
    }
   ],
   "source": [
    "N_i = k_B * T_A * BW_IF\n",
    "N_dbm = lin2dBm(N_i)\n",
    "print(f\"Noise power Antenna: {scientific_2_str(N_dbm, \"dBm\")}\")\n",
    "\n",
    "F_tot = F_a_lin + (L_bpf_lin - 1) / G_amp_lin + (F_mix_lin - 1) / (G_amp_lin * 1 / L_bpf_lin)\n",
    "NF = lin2db(F_tot)\n",
    "\n",
    "G_tot = G_amp_lin * 1 / L_bpf * 1 / L_mix\n",
    "N_0 =  N_i * F_tot\n",
    "\n",
    "N_0_db = lin2dBm(N_0)\n",
    "print(f\"Output Noise Power: {scientific_2_str(N_0_db, \"dBm\")}\")\n"
   ]
  },
  {
   "cell_type": "code",
   "execution_count": 123,
   "id": "d4508402",
   "metadata": {},
   "outputs": [
    {
     "name": "stdout",
     "output_type": "stream",
     "text": [
      "Min. Voltage required for 20 is 13.7 µV\n"
     ]
    }
   ],
   "source": [
    "SNR_min_lin = db2lin(SNR_min)\n",
    "\n",
    "P_signal = SNR_min_lin * N_0\n",
    "V = np.sqrt(P_signal * Z_0)\n",
    "\n",
    "print(f\"Min. Voltage required for {SNR_min} is {scientific_2_str(V, \"V\")}\")"
   ]
  },
  {
   "cell_type": "markdown",
   "id": "2ce1eda7",
   "metadata": {},
   "source": [
    "## 3.3 Exercise 3"
   ]
  },
  {
   "cell_type": "markdown",
   "id": "16363163",
   "metadata": {},
   "source": [
    " Insert solution here"
   ]
  },
  {
   "cell_type": "markdown",
   "id": "d0a8ddb1",
   "metadata": {},
   "source": [
    "## 3.4 Exercise 4"
   ]
  },
  {
   "cell_type": "markdown",
   "id": "be613339",
   "metadata": {},
   "source": [
    "Insert solution here"
   ]
  }
 ],
 "metadata": {
  "kernelspec": {
   "display_name": ".venv",
   "language": "python",
   "name": "python3"
  },
  "language_info": {
   "codemirror_mode": {
    "name": "ipython",
    "version": 3
   },
   "file_extension": ".py",
   "mimetype": "text/x-python",
   "name": "python",
   "nbconvert_exporter": "python",
   "pygments_lexer": "ipython3",
   "version": "3.13.0"
  }
 },
 "nbformat": 4,
 "nbformat_minor": 5
}
