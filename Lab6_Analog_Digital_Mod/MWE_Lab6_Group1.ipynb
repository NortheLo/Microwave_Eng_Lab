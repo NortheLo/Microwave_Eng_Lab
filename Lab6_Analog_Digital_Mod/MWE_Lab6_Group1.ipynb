{
 "cells": [
  {
   "cell_type": "markdown",
   "id": "b8c8939d",
   "metadata": {},
   "source": [
    "# Lab Report \"Demodulation\" of Group 1n (Wörner, Velez, Northe)"
   ]
  },
  {
   "cell_type": "markdown",
   "id": "6ca85016",
   "metadata": {},
   "source": [
    "The source code and the binaries from this report can be found in our Github [repository](https://github.com/NortheLo/Microwave_Eng_Lab/tree/main/Lab6_Analog_Digital_Mod)."
   ]
  },
  {
   "cell_type": "markdown",
   "id": "a3a57219",
   "metadata": {},
   "source": [
    "## 7.1 Analog Modulation and Demodulation"
   ]
  },
  {
   "cell_type": "markdown",
   "id": "d626a08f",
   "metadata": {},
   "source": [
    "Insert Report here"
   ]
  },
  {
   "cell_type": "markdown",
   "id": "a12ceaa5",
   "metadata": {},
   "source": [
    "### 7.1.1 Generation of an Amplitude-Modulated Signal"
   ]
  },
  {
   "cell_type": "markdown",
   "id": "ad1698fd",
   "metadata": {},
   "source": [
    "Insert Report here"
   ]
  },
  {
   "cell_type": "markdown",
   "id": "ce5876cb",
   "metadata": {},
   "source": [
    "### 7.1.2 Demodulation of an Amplitude-Modulated Signal"
   ]
  },
  {
   "cell_type": "markdown",
   "id": "7191f3fa",
   "metadata": {},
   "source": [
    "Insert Report here"
   ]
  },
  {
   "cell_type": "markdown",
   "id": "0cdc8d1f",
   "metadata": {},
   "source": [
    "## 7.2 Digital Demodulation"
   ]
  },
  {
   "cell_type": "markdown",
   "id": "61231d5a",
   "metadata": {},
   "source": [
    "Insert Report here"
   ]
  }
 ],
 "metadata": {
  "language_info": {
   "name": "python"
  }
 },
 "nbformat": 4,
 "nbformat_minor": 5
}
