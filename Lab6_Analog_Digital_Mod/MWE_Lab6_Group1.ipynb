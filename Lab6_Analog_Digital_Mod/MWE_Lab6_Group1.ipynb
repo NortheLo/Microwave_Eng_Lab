{
 "cells": [
  {
   "cell_type": "markdown",
   "id": "b8c8939d",
   "metadata": {},
   "source": [
    "# Lab Report \"Demodulation\" of Group 1n (Wörner, Velez, Northe)"
   ]
  },
  {
   "cell_type": "markdown",
   "id": "6ca85016",
   "metadata": {},
   "source": [
    "The source code and the binaries from this report can be found in our Github [repository](https://github.com/NortheLo/Microwave_Eng_Lab/tree/main/Lab6_Analog_Digital_Mod)."
   ]
  },
  {
   "cell_type": "markdown",
   "id": "a3a57219",
   "metadata": {},
   "source": [
    "## 7.1 Analog Modulation and Demodulation"
   ]
  },
  {
   "cell_type": "markdown",
   "id": "d626a08f",
   "metadata": {},
   "source": [
    "Insert Report here"
   ]
  },
  {
   "cell_type": "markdown",
   "id": "a12ceaa5",
   "metadata": {},
   "source": [
    "### 7.1.1 Generation of an Amplitude-Modulated Signal"
   ]
  },
  {
   "cell_type": "markdown",
   "id": "ad1698fd",
   "metadata": {},
   "source": [
    "Insert Report here"
   ]
  },
  {
   "cell_type": "markdown",
   "id": "ce5876cb",
   "metadata": {},
   "source": [
    "### 7.1.2 Demodulation of an Amplitude-Modulated Signal"
   ]
  },
  {
   "cell_type": "markdown",
   "id": "04df9c57",
   "metadata": {},
   "source": [
    "The signals have the following properties:\n",
    "- $f_c = 1 \\text{MHz}$ carrier frequency (Frequency)\n",
    "- $f_{FM} = 200 \\text{kHz}$ frequency deviation (FM deviation)\n",
    "- $f_s = 10 \\text{kHz}$ signal frequency (low-frequency, modulating signal, FM rate)"
   ]
  },
  {
   "cell_type": "markdown",
   "id": "3b967057",
   "metadata": {},
   "source": [
    "**What frequency do you expect (frequency of the LF signal) and what frequency do you read off? Can you explain this effect?**"
   ]
  },
  {
   "cell_type": "markdown",
   "id": "7191f3fa",
   "metadata": {},
   "source": [
    "Insert Report here"
   ]
  },
  {
   "cell_type": "markdown",
   "id": "ed6f96cd",
   "metadata": {},
   "source": [
    "**How and why can the amplifier help you with this?**"
   ]
  },
  {
   "cell_type": "markdown",
   "id": "471997e4",
   "metadata": {},
   "source": [
    "Insert Report here"
   ]
  },
  {
   "cell_type": "markdown",
   "id": "651858dd",
   "metadata": {},
   "source": [
    "Now create a frequency-modulated signal with the signal generator.\n",
    "**Look at it with the spectrum analyzer and identify the components of the received signal. <br>\n",
    "Record this with pictures. Compare the characteristics of the measured spectrum to them of the theoretical one.**"
   ]
  },
  {
   "cell_type": "markdown",
   "id": "62f40796",
   "metadata": {},
   "source": [
    "$\\red{Insert \\space screenshot}$"
   ]
  },
  {
   "cell_type": "markdown",
   "id": "0cdc8d1f",
   "metadata": {},
   "source": [
    "## 7.2 Digital Demodulation"
   ]
  },
  {
   "cell_type": "markdown",
   "id": "61231d5a",
   "metadata": {},
   "source": [
    "The following settings were used:\n",
    "- $ f_c = 800 \\text{MHz} $\n",
    "- $ P_{LO} = 10 \\text{dBm} $ for the first signal generator (R%S in the script)\n",
    "- $ P_{RF} = 0 \\text{dBm}$ for the second signal generator (Agilent in the script)"
   ]
  },
  {
   "cell_type": "markdown",
   "id": "c2145dca",
   "metadata": {},
   "source": [
    "**Which form of the IQ signals would you expect?**"
   ]
  },
  {
   "cell_type": "markdown",
   "id": "2555c863",
   "metadata": {},
   "source": [
    "Expectation: <br>\n",
    "The expectation would be to see on each oscilloscope channel complementary binary values."
   ]
  },
  {
   "cell_type": "markdown",
   "id": "8d4ffb2f",
   "metadata": {},
   "source": [
    "Think about how the modulated transmit\n",
    "signal looks like. In addition, think about what an IQ demodulator does or how it is constructed.<br>\n",
    "**Why could it be that the displayed IQ signals deviate from theory? What could help?**"
   ]
  },
  {
   "cell_type": "markdown",
   "id": "cbe5b50e",
   "metadata": {},
   "source": [
    "IQ demodulator: <br>\n",
    "- Splits signal in two\n",
    "- mixes one branch (I) with the LO signal\n",
    "- mixes the other (Q) with a 90° shifted signal\n",
    "- Both branches get filtered to reduce alias effects"
   ]
  },
  {
   "cell_type": "markdown",
   "id": "6b6c4d9d",
   "metadata": {},
   "source": [
    "The deviation from the expectation is due to the fact that the RF signal (simulates signal from an antenna/TX) is not syncronized with the LO signal, which simulates the LO of a receiver. So the fix would be to syncronize the PLLs of our lab equipment, which can be done by hooking up the trigger of one signal generator to the other."
   ]
  },
  {
   "cell_type": "markdown",
   "id": "ab7bcaf3",
   "metadata": {},
   "source": [
    "$\\red{Insert \\space screenshot}$"
   ]
  },
  {
   "cell_type": "markdown",
   "id": "3c3a9985",
   "metadata": {},
   "source": [
    "**Reconstruct the information signal according to (5.5) from the script (Calculate the\n",
    "amplitude of the received signal. Take a photo or save a picture of the displayed signals.).**"
   ]
  },
  {
   "cell_type": "markdown",
   "id": "00499c51",
   "metadata": {},
   "source": []
  },
  {
   "cell_type": "markdown",
   "id": "ee9a0c84",
   "metadata": {},
   "source": [
    "$\\red{Insert \\space screenshot}$"
   ]
  },
  {
   "cell_type": "markdown",
   "id": "ee8264bd",
   "metadata": {},
   "source": [
    "**Explain why the I and Q signals changed after the LO frequency had been changed and\n",
    "restored.**"
   ]
  },
  {
   "cell_type": "markdown",
   "id": "ccfbaa67",
   "metadata": {},
   "source": [
    "Because the position of I and Q is only relative to each other, they can also be represented by a mirrowed position in the constellation diagram."
   ]
  },
  {
   "cell_type": "markdown",
   "id": "17ffe077",
   "metadata": {},
   "source": [
    "$\\red{Pls \\space correct \\space if \\space wrong}$"
   ]
  }
 ],
 "metadata": {
  "language_info": {
   "name": "python"
  }
 },
 "nbformat": 4,
 "nbformat_minor": 5
}
