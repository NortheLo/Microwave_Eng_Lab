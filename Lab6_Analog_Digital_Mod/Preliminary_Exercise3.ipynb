{
 "cells": [
  {
   "cell_type": "markdown",
   "id": "5c3529a9",
   "metadata": {},
   "source": [
    "## 6.3 Exercise 3 IQ"
   ]
  },
  {
   "cell_type": "markdown",
   "id": "34f117c2",
   "metadata": {},
   "source": [
    "$$ s(t) = 2 \\left[ 1 + 0.5 \\cos \\left( 4\\pi \\times 10^3 \\, \\text{Hz} \\cdot t + \\frac{\\pi}{4} \\right) \\right] \\cos \\left( 2\\pi \\times 10^6 \\, \\text{Hz} \\cdot t - \\sin \\left( 6\\pi \\times 10^3 \\, \\text{Hz} \\cdot t - \\frac{\\pi}{4} \\right) \\right)$$\n",
    "$$ 0 \\leq t \\leq 1.5 \\, \\text{ms} $$"
   ]
  },
  {
   "cell_type": "markdown",
   "id": "426e19dd",
   "metadata": {},
   "source": [
    "### 6.3.1 Formulas of I and Q signals after LPF"
   ]
  },
  {
   "cell_type": "markdown",
   "id": "e269ee56",
   "metadata": {},
   "source": []
  }
 ],
 "metadata": {
  "language_info": {
   "name": "python"
  }
 },
 "nbformat": 4,
 "nbformat_minor": 5
}
