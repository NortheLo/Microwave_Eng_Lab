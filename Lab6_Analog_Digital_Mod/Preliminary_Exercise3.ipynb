{
 "cells": [
  {
   "cell_type": "markdown",
   "id": "5c3529a9",
   "metadata": {},
   "source": [
    "## 6.3 Exercise 3 IQ"
   ]
  },
  {
   "cell_type": "markdown",
   "id": "34f117c2",
   "metadata": {},
   "source": [
    "$$ f_c = 1MHz $$\n",
    "$$ s(t) = 2 \\left[ 1 + 0.5 \\cos \\left( 4\\pi \\times 10^3 \\, \\text{Hz} \\cdot t + \\frac{\\pi}{4} \\right) \\right] \\cos \\left( 2\\pi \\times 10^6 \\, \\text{Hz} \\cdot t - \\sin \\left( 6\\pi \\times 10^3 \\, \\text{Hz} \\cdot t - \\frac{\\pi}{4} \\right) \\right)$$\n",
    "$$ 0 \\leq t \\leq 1.5 \\, \\text{ms} $$"
   ]
  },
  {
   "cell_type": "markdown",
   "id": "426e19dd",
   "metadata": {},
   "source": [
    "### 6.3.1 Formulas of I and Q signals after LPF"
   ]
  },
  {
   "cell_type": "markdown",
   "id": "e269ee56",
   "metadata": {},
   "source": [
    "Introducing some signs:\n",
    "$$ \\omega_0 = 2  \\pi \\times 10^6Hz$$\n",
    "$$ \\omega_{f1} = 2 \\pi \\times 2 \\cdot 10^3 Hz$$\n",
    "$$ \\omega_{f2} = 2 \\pi \\times 3 \\cdot 10^3 Hz$$\n",
    "$$ a(t) = 2 \\left[ 1 + 0.5 \\cos \\left( 4\\pi \\times 10^3 \\, \\text{Hz} \\cdot t + \\frac{\\pi}{4} \\right) \\right] $$\n",
    "$$ \\phi(t) = \\sin \\left (\\omega_{f2} \\cdot t - \\frac{\\pi}{4} \\right) $$"
   ]
  },
  {
   "cell_type": "markdown",
   "id": "3ecea48e",
   "metadata": {},
   "source": [
    "Apply cosine subtraction identity: \n",
    "$$ s(t) = a(t) \\cos \\left( \\omega_o \\cdot t - \\phi(t) \\right) = a(t) \\left [ \\cos (\\omega_0 \\cdot t) \\cos (\\phi(t)) + \\sin (\\omega_0 \\cdot t ) \\sin ( \\phi (t)) \\right] $$"
   ]
  },
  {
   "cell_type": "markdown",
   "id": "828ba03e",
   "metadata": {},
   "source": [
    "Now mix/multiply the bandpass signal with the signal from the LO: \n",
    "$$ s_I(t) = \\frac{1}{2} s(t) \\cdot \\cos \\left( \\omega_0 t \\right) $$\n",
    "$$ s_Q(t) = \\frac{1}{2} s(t) \\cdot \\sin\\left( \\omega_0 t \\right) $$"
   ]
  },
  {
   "cell_type": "markdown",
   "id": "a0f0a724",
   "metadata": {},
   "source": [
    "With the following identities: <br>\n",
    "$$ \\cos^2 (\\omega_0 t) = \\frac{1 + \\cos (2 \\omega_0 t)}{2} $$\n",
    "$$ \\sin (\\omega_0 t) \\cos (\\omega_0 t) = \\frac{1}{2} \\sin (2 \\omega_0 t)$$"
   ]
  },
  {
   "cell_type": "markdown",
   "id": "cecbf71e",
   "metadata": {},
   "source": [
    "We get this euqation for one branch. We just show the I-part as it is the same for the Q-part:\n",
    "\\begin{align*}\n",
    "s_I(t) &= \\frac{1}{2} a(t) \\left[ \\cos(\\omega_0 t) \\cos(\\phi(t)) + \\sin(\\omega_0 t) \\sin(\\phi(t)) \\right] \\cdot \\cos(\\omega_0 t) \\\\\n",
    "&= \\frac{1}{2} a(t) \\left[ \\cos(\\phi(t)) \\cos^2(\\omega_0 t) + \\sin(\\phi(t)) \\sin(\\omega_0 t) \\cos(\\omega_0 t) \\right] \\\\\n",
    "&= \\frac{1}{2} a(t) \\left[ \\cos(\\phi(t)) \\cdot \\frac{1 + \\cos(2\\omega_0 t)}{2} + \\sin(\\phi(t)) \\cdot \\frac{1}{2} \\sin(2\\omega_0 t) \\right]\n",
    "\\end{align*}"
   ]
  },
  {
   "cell_type": "markdown",
   "id": "66b90764",
   "metadata": {},
   "source": [
    "Now we want to get rid of the $2 \\omega_0$ parts, so we have to use a LPF."
   ]
  },
  {
   "cell_type": "markdown",
   "id": "6b99b263",
   "metadata": {},
   "source": [
    "$$s_I(t) = \\frac{1}{2} a(t) \\left[ \\cos(\\phi(t)) \\right]$$\n",
    "$$s_Q(t) = \\frac{1}{2} a(t) \\left[ \\sin(\\phi(t)) \\right]$$"
   ]
  },
  {
   "cell_type": "markdown",
   "id": "08cc72ba",
   "metadata": {},
   "source": [
    "Resubstitude $\\phi$ and $\\omega$ terms:\n",
    "$$ s_I(t) = \\left[ 1 + 0.5 \\cos \\left( 2\\pi \\times 2 \\cdot10^3 \\, \\text{Hz} \\cdot t + \\frac{\\pi}{4} \\right) \\right] \\cdot \\left[ \\cos(\\sin \\left (2 \\pi \\times 3 \\cdot 10^3 Hz \\cdot t - \\frac{\\pi}{4} \\right)) \\right] $$\n",
    "$$ s_Q(t) = \\left[ 1 + 0.5 \\cos \\left( 2\\pi \\times 2 \\cdot10^3 \\, \\text{Hz} \\cdot t + \\frac{\\pi}{4} \\right) \\right] \\cdot \\left[ \\sin(\\sin \\left (2 \\pi \\times 3 \\cdot 10^3 Hz \\cdot t - \\frac{\\pi}{4} \\right)) \\right] $$"
   ]
  },
  {
   "cell_type": "markdown",
   "id": "1ae06d41",
   "metadata": {},
   "source": [
    "### 6.3.2 Determine for the signal $s(t)$:\n",
    "- Mean carrier amplitude $A_T$\n",
    "- Modulation depth $m$\n",
    "- AM modulation frequency $f_{N,AM}$\n",
    "- Peak phase deviation $\\Delta \\phi$\n",
    "- Modulation index $\\eta$\n",
    "- Peak frequency deviation $\\Delta f$\n",
    "- FM modulation frequency $f_{N,FM}$"
   ]
  },
  {
   "cell_type": "markdown",
   "id": "f2e75666",
   "metadata": {},
   "source": [
    "$$ s(t) = \n",
    "\\underbrace{2 \\left[ 1 + 0.5 \\cos\\left(2\\pi \\cdot 2 \\cdot 10^3 \\cdot t + \\frac{\\pi}{4} \\right) \\right]}_{\\text{AM envelope}}\n",
    "\\cdot\n",
    "\\cos\\left(\n",
    "\\underbrace{2\\pi \\cdot 10^6 \\cdot t}_{\\text{Carrier}} \n",
    "- \n",
    "\\underbrace{\\sin\\left(2\\pi \\cdot 3 \\cdot 10^3 \\cdot t - \\frac{\\pi}{4} \\right)}_{\\text{PM phase deviation}}\n",
    "\\right)$$"
   ]
  },
  {
   "cell_type": "markdown",
   "id": "f1715bd9",
   "metadata": {},
   "source": [
    "Swing: $a_{max} = 2 * (1 + 0.5) = 3 $ and $a_{min} = 2 * (1 - 0.5) = 1$ -> $\\Delta a = 2$\n",
    "$$ A_T = 2$$\n",
    "\n",
    "\n"
   ]
  },
  {
   "cell_type": "markdown",
   "id": "6d05b30a",
   "metadata": {},
   "source": [
    "$$m = \\frac{a_n}{A_T} = \\frac{1}{2} = 0.5 $$"
   ]
  },
  {
   "cell_type": "markdown",
   "id": "a3b3397a",
   "metadata": {},
   "source": [
    "$$f_{N,AM} = 2kHz$$ "
   ]
  },
  {
   "cell_type": "markdown",
   "id": "3789b0ea",
   "metadata": {},
   "source": [
    "As an amplitude swing from $-1$ to $1$ equates to 1 rad by converting $A=-1$\n",
    "$$ \\Delta \\phi = 1 rad $$ "
   ]
  },
  {
   "cell_type": "markdown",
   "id": "e1418327",
   "metadata": {},
   "source": [
    "The modulation index: $$\\eta = \\frac{\\Delta \\omega}{\\omega} = \\frac{2 \\pi \\cdot 3kHz}{2 \\pi \\cdot 3kHz} = 1 $$ "
   ]
  },
  {
   "cell_type": "markdown",
   "id": "8a711ff3",
   "metadata": {},
   "source": [
    "Therefore \n",
    "$$ \\Delta f = 3kHz $$ \n",
    "$$ f_{N,FM} = 3kHz $$"
   ]
  }
 ],
 "metadata": {
  "language_info": {
   "name": "python"
  }
 },
 "nbformat": 4,
 "nbformat_minor": 5
}
