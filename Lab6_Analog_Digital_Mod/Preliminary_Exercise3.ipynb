{
 "cells": [
  {
   "cell_type": "markdown",
   "id": "5c3529a9",
   "metadata": {},
   "source": [
    "## 6.3 Exercise 3 IQ"
   ]
  },
  {
   "cell_type": "markdown",
   "id": "34f117c2",
   "metadata": {},
   "source": [
    "$$ f_c = 1MHz $$\n",
    "$$ s(t) = 2 \\left[ 1 + 0.5 \\cos \\left( 4\\pi \\times 10^3 \\, \\text{Hz} \\cdot t + \\frac{\\pi}{4} \\right) \\right] \\cos \\left( 2\\pi \\times 10^6 \\, \\text{Hz} \\cdot t - \\sin \\left( 6\\pi \\times 10^3 \\, \\text{Hz} \\cdot t - \\frac{\\pi}{4} \\right) \\right)$$\n",
    "$$ 0 \\leq t \\leq 1.5 \\, \\text{ms} $$"
   ]
  },
  {
   "cell_type": "markdown",
   "id": "426e19dd",
   "metadata": {},
   "source": [
    "### 6.3.1 Formulas of I and Q signals after LPF"
   ]
  },
  {
   "cell_type": "markdown",
   "id": "e269ee56",
   "metadata": {},
   "source": [
    "Introducing some signs:\n",
    "$$ \\omega_o = 2  \\pi \\times 10^6Hz$$\n",
    "$$ \\omega_{f1} = 2 \\pi \\times 2 \\cdot 10^3 Hz$$\n",
    "$$ \\omega_{f2} = 2 \\pi \\times 3 \\cdot 10^3 Hz$$\n",
    "$$ a(t) = 2 \\left[ 1 + 0.5 \\cos \\left( 4\\pi \\times 10^3 \\, \\text{Hz} \\cdot t + \\frac{\\pi}{4} \\right) \\right] $$\n",
    "$$ \\phi(t) = \\sin \\left (\\omega_{f2} \\cdot t - \\frac{\\pi}{4} \\right) $$"
   ]
  },
  {
   "cell_type": "markdown",
   "id": "3ecea48e",
   "metadata": {},
   "source": [
    "Apply cosine subtraction identity: \n",
    "$$ s(t) = a(t) \\cos \\left( \\omega_o \\cdot t - \\phi(t) \\right) = a(t) \\left [ \\cos (\\omega_0 \\cdot t) \\cos (\\phi(t)) + \\sin (\\omega_0 \\cdot t ) \\sin ( \\phi (t)) \\right] $$"
   ]
  },
  {
   "cell_type": "markdown",
   "id": "828ba03e",
   "metadata": {},
   "source": [
    "$$ s_I(t) = \\frac{1}{2} s(t) \\cdot \\cos \\left( \\omega_0 t \\right) $$\n",
    "$$ s_Q(t) = \\frac{1}{2} s(t) \\cdot \\sin\\left( \\omega_0 t \\right) $$"
   ]
  },
  {
   "cell_type": "markdown",
   "id": "1ae06d41",
   "metadata": {},
   "source": [
    "### 6.3.2 Determine for the signal $s(t)$:\n",
    "- Mean carrier amplitude $A_T$\n",
    "- Modulation depth $m$\n",
    "- AM modulation frequency $f_{N,Am}$\n",
    "- Peak phase deviation $\\Delta \\phi$\n",
    "- Modulation index $\\eta$\n",
    "- Peak frequency deviation $\\Delta f$\n",
    "- FM modulation frequency $f_{N,FM}$"
   ]
  },
  {
   "cell_type": "markdown",
   "id": "f1715bd9",
   "metadata": {},
   "source": []
  }
 ],
 "metadata": {
  "language_info": {
   "name": "python"
  }
 },
 "nbformat": 4,
 "nbformat_minor": 5
}
