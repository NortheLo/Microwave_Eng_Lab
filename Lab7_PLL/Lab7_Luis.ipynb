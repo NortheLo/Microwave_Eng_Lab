{
 "cells": [
  {
   "cell_type": "code",
   "execution_count": 24,
   "id": "82dbd59e",
   "metadata": {},
   "outputs": [
    {
     "data": {
      "text/latex": [
       "$\\displaystyle v_{2}{\\left(t \\right)} = C R_{2} \\frac{\\partial}{\\partial t} \\mathcal{L}^{-1}_{s}\\left[\\frac{V_{1}{\\left(s \\right)}}{C s \\left(R_{1} + R_{2}\\right) + 1}\\right]\\left(t\\right) + \\mathcal{L}^{-1}_{s}\\left[\\frac{V_{1}{\\left(s \\right)}}{C s \\left(R_{1} + R_{2}\\right) + 1}\\right]\\left(t\\right)$"
      ],
      "text/plain": [
       "Eq(v_2(t), C*R2*Derivative(InverseLaplaceTransform(V1(s)/(C*s*(R1 + R2) + 1), s, t, _None), t) + InverseLaplaceTransform(V1(s)/(C*s*(R1 + R2) + 1), s, t, _None))"
      ]
     },
     "metadata": {},
     "output_type": "display_data"
    }
   ],
   "source": [
    "import sympy as sp\n",
    "from sympy import symbols, Function, Eq, inverse_laplace_transform\n",
    "from IPython.display import display  # ← THIS is the correct display()\n",
    "\n",
    "# Define symbols\n",
    "s, t = symbols('s t', real=True)\n",
    "R1, R2, C = symbols('R1 R2 C', positive=True)\n",
    "V1 = Function('V1')(s)\n",
    "v2 = Function('v_2')(t)\n",
    "\n",
    "# Transfer function\n",
    "H = (R2*C*s + 1) / ((R1 + R2)*C*s + 1)\n",
    "V2 = H * V1\n",
    "\n",
    "# Display full inverse Laplace result\n",
    "display(Eq(v2, inverse_laplace_transform(V2, s, t)))"
   ]
  },
  {
   "cell_type": "markdown",
   "id": "1f5c3f2c",
   "metadata": {},
   "source": [
    "Now for solving the equation when the input is a square wave:"
   ]
  },
  {
   "cell_type": "code",
   "execution_count": 25,
   "id": "02196cb0",
   "metadata": {},
   "outputs": [
    {
     "data": {
      "text/latex": [
       "$\\displaystyle v_{2}{\\left(t \\right)} = \\frac{A \\left(- R_{1} e^{\\frac{t}{C \\left(R_{1} + R_{2}\\right)}} \\theta\\left(- D T + t\\right) + R_{1} e^{\\frac{t}{C \\left(R_{1} + R_{2}\\right)}} + R_{1} e^{\\frac{D T}{C \\left(R_{1} + R_{2}\\right)}} \\theta\\left(- D T + t\\right) - R_{1} - R_{2} e^{\\frac{t}{C \\left(R_{1} + R_{2}\\right)}} \\theta\\left(- D T + t\\right) + R_{2} e^{\\frac{t}{C \\left(R_{1} + R_{2}\\right)}}\\right) e^{- \\frac{t}{C \\left(R_{1} + R_{2}\\right)}}}{R_{1} + R_{2}}$"
      ],
      "text/plain": [
       "Eq(v_2(t), A*(-R1*exp(t/(C*(R1 + R2)))*Heaviside(-D*T + t) + R1*exp(t/(C*(R1 + R2))) + R1*exp(D*T/(C*(R1 + R2)))*Heaviside(-D*T + t) - R1 - R2*exp(t/(C*(R1 + R2)))*Heaviside(-D*T + t) + R2*exp(t/(C*(R1 + R2))))*exp(-t/(C*(R1 + R2)))/(R1 + R2))"
      ]
     },
     "metadata": {},
     "output_type": "display_data"
    }
   ],
   "source": [
    "# Define symbols\n",
    "t, s, A, T, D = sp.symbols('t s A T D', positive=True, real=True)\n",
    "R1, R2, C = sp.symbols('R1 R2 C', positive=True)\n",
    "v2 = sp.Function('v_2')(t)\n",
    "\n",
    "# Step 1: Define v1(t) as a single square pulse with duration D*T\n",
    "v1_t = A * (sp.Heaviside(t) - sp.Heaviside(t - D*T))\n",
    "\n",
    "# Step 2: Laplace transform of the input\n",
    "V1s = sp.laplace_transform(v1_t, t, s, noconds=True)\n",
    "\n",
    "# Step 3: Define the system transfer function H(s)\n",
    "H = (R2*C*s + 1) / ((R1 + R2)*C*s + 1)\n",
    "\n",
    "# Step 4: Multiply to get output in Laplace domain\n",
    "V2s = sp.simplify(H * V1s)\n",
    "\n",
    "# Step 5: Inverse Laplace transform to get v2(t)\n",
    "v2_t = sp.simplify(sp.inverse_laplace_transform(V2s, s, t))\n",
    "\n",
    "# Display the result\n",
    "display(sp.simplify(sp.Eq(v2, v2_t)))\n"
   ]
  },
  {
   "cell_type": "markdown",
   "id": "d869cc89",
   "metadata": {},
   "source": []
  },
  {
   "cell_type": "code",
   "execution_count": 26,
   "id": "8c1c0ca2",
   "metadata": {},
   "outputs": [
    {
     "data": {
      "text/latex": [
       "$\\displaystyle v_{2,avg} = \\frac{A \\left(C R_{1} \\left(R_{1} + R_{2}\\right) \\left(e^{\\frac{T}{C \\left(R_{1} + R_{2}\\right)}} - e^{\\frac{D T}{C \\left(R_{1} + R_{2}\\right)}}\\right) \\theta\\left(T \\left(1 - D\\right)\\right) - C R_{1} \\left(R_{1} + R_{2}\\right) e^{\\frac{T}{C \\left(R_{1} + R_{2}\\right)}} + C R_{1} \\left(R_{1} + R_{2}\\right) + T \\left(R_{1} \\left(D - 1\\right) \\theta\\left(T \\left(1 - D\\right)\\right) + R_{1} + R_{2} \\left(D - 1\\right) \\theta\\left(T \\left(1 - D\\right)\\right) + R_{2}\\right) e^{\\frac{T}{C \\left(R_{1} + R_{2}\\right)}}\\right) e^{- \\frac{T}{C \\left(R_{1} + R_{2}\\right)}}}{T \\left(R_{1} + R_{2}\\right)}$"
      ],
      "text/plain": [
       "Eq(v_{2,avg}, A*(C*R1*(R1 + R2)*(exp(T/(C*(R1 + R2))) - exp(D*T/(C*(R1 + R2))))*Heaviside(T*(1 - D)) - C*R1*(R1 + R2)*exp(T/(C*(R1 + R2))) + C*R1*(R1 + R2) + T*(R1*(D - 1)*Heaviside(T*(1 - D)) + R1 + R2*(D - 1)*Heaviside(T*(1 - D)) + R2)*exp(T/(C*(R1 + R2))))*exp(-T/(C*(R1 + R2)))/(T*(R1 + R2)))"
      ]
     },
     "metadata": {},
     "output_type": "display_data"
    }
   ],
   "source": [
    "# Define symbols\n",
    "t, s, A, T, D = sp.symbols('t s A T D', positive=True, real=True)\n",
    "R1, R2, C = sp.symbols('R1 R2 C', positive=True)\n",
    "v2 = sp.Function('v_2')(t)\n",
    "\n",
    "# Step 1: Define v1(t) as a single square pulse of duration D*T\n",
    "v1_t = A * (sp.Heaviside(t) - sp.Heaviside(t - D*T))\n",
    "\n",
    "# Step 2: Laplace transform of v1(t)\n",
    "V1s = sp.laplace_transform(v1_t, t, s, noconds=True)\n",
    "\n",
    "# Step 3: Define transfer function of the lag-lead filter\n",
    "H = (R2*C*s + 1) / ((R1 + R2)*C*s + 1)\n",
    "\n",
    "# Step 4: Output in Laplace domain\n",
    "V2s = sp.simplify(H * V1s)\n",
    "\n",
    "# Step 5: Inverse Laplace to get v2(t)\n",
    "v2_t = sp.simplify(sp.inverse_laplace_transform(V2s, s, t))\n",
    "\n",
    "# Step 6: Compute average value over one full period T\n",
    "v2_avg = sp.simplify(1 / T * sp.integrate(v2_t, (t, 0, T)))\n",
    "\n",
    "# Step 7: Display the result\n",
    "display(sp.simplify(sp.Eq(sp.Symbol('v_{2,avg}'), v2_avg)))"
   ]
  },
  {
   "cell_type": "markdown",
   "id": "16d604ac",
   "metadata": {},
   "source": [
    "Plot 1 cycle"
   ]
  },
  {
   "cell_type": "code",
   "execution_count": 27,
   "id": "ad85270c",
   "metadata": {},
   "outputs": [
    {
     "data": {
      "image/png": "[encoded data removed]",
      "text/plain": [
       "<Figure size 1000x500 with 1 Axes>"
      ]
     },
     "metadata": {},
     "output_type": "display_data"
    }
   ],
   "source": [
    "import numpy as np\n",
    "import matplotlib.pyplot as plt\n",
    "\n",
    "# Step 1: Define symbols\n",
    "t, s, A, T, D = sp.symbols('t s A T D', real=True, positive=True)\n",
    "R1, R2, C = sp.symbols('R1 R2 C', positive=True)\n",
    "v2 = sp.Function('v_2')(t)\n",
    "\n",
    "# Step 2: Define v1(t): square pulse from 0 to D*T\n",
    "v1_expr = A * (sp.Heaviside(t) - sp.Heaviside(t - D*T))\n",
    "\n",
    "# Step 3: Laplace transform of v1(t)\n",
    "V1s = sp.laplace_transform(v1_expr, t, s, noconds=True)\n",
    "\n",
    "# Step 4: Transfer function H(s)\n",
    "H = (R2*C*s + 1) / ((R1 + R2)*C*s + 1)\n",
    "\n",
    "# Step 5: V2(s) and inverse Laplace\n",
    "V2s = sp.simplify(H * V1s)\n",
    "v2_expr = sp.simplify(sp.inverse_laplace_transform(V2s, s, t))\n",
    "\n",
    "# Step 6: Average value over one period\n",
    "v2_avg_expr = sp.simplify(1 / T * sp.integrate(v2_expr, (t, 0, T)))\n",
    "\n",
    "# Step 7: Substitute numerical values\n",
    "values = {\n",
    "    A: 1,\n",
    "    T: 1,\n",
    "    D: 0.5,\n",
    "    R1: 1e3,\n",
    "    R2: 1e3,\n",
    "    C: 1e-6\n",
    "}\n",
    "\n",
    "v1_expr_num = v1_expr.subs(values)\n",
    "v2_expr_num = v2_expr.subs(values)\n",
    "v2_avg_val = float(v2_avg_expr.subs(values))\n",
    "\n",
    "# Step 8: Lambdify with explicit vector handling\n",
    "heaviside = lambda x: np.heaviside(x, 1)\n",
    "v1_func = sp.lambdify(t, v1_expr_num, modules=[\"numpy\", {\"Heaviside\": heaviside}])\n",
    "v2_func = sp.lambdify(t, v2_expr_num, modules=[\"numpy\", {\"Heaviside\": heaviside}])\n",
    "\n",
    "# Step 9: Evaluate and plot\n",
    "t_vals = np.linspace(0, float(values[T]), 1000)\n",
    "v1_vals = np.array([v1_func(ti) for ti in t_vals])\n",
    "v2_vals = np.array([v2_func(ti) for ti in t_vals])\n",
    "v2_avg_line = np.full_like(t_vals, v2_avg_val)\n",
    "\n",
    "# Plot\n",
    "plt.figure(figsize=(10, 5))\n",
    "plt.plot(t_vals, v1_vals, '--', label=r'$v_1(t)$ (Input Pulse)')\n",
    "plt.plot(t_vals, v2_vals, label=r'$v_2(t)$ (Filter Output)')\n",
    "plt.plot(t_vals, v2_avg_line, ':', label=r'$\\bar{v}_2$ (Time Average)')\n",
    "plt.xlabel('Time [s]')\n",
    "plt.ylabel('Voltage [V]')\n",
    "plt.title('Lag-Lead Filter Response with `subs()` Values')\n",
    "plt.grid(True)\n",
    "plt.legend()\n",
    "plt.tight_layout()\n",
    "plt.show()\n"
   ]
  }
 ],
 "metadata": {
  "kernelspec": {
   "display_name": "Python 3",
   "language": "python",
   "name": "python3"
  },
  "language_info": {
   "codemirror_mode": {
    "name": "ipython",
    "version": 3
   },
   "file_extension": ".py",
   "mimetype": "text/x-python",
   "name": "python",
   "nbconvert_exporter": "python",
   "pygments_lexer": "ipython3",
   "version": "3.13.3"
  }
 },
 "nbformat": 4,
 "nbformat_minor": 5
}
