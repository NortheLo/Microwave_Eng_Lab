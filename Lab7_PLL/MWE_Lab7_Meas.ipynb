{
 "cells": [
  {
   "cell_type": "code",
   "execution_count": 13,
   "id": "56473dda",
   "metadata": {},
   "outputs": [],
   "source": [
    "import numpy as np\n",
    "\n",
    "get_cutoff = lambda R, C: 1 / (2 * np.pi * R * C)"
   ]
  },
  {
   "cell_type": "markdown",
   "id": "d2f5de34",
   "metadata": {},
   "source": [
    "For f_min GND at VCO_1,IN"
   ]
  },
  {
   "cell_type": "markdown",
   "id": "168bbf5f",
   "metadata": {},
   "source": [
    "3.1.1.1 a"
   ]
  },
  {
   "cell_type": "code",
   "execution_count": 14,
   "id": "dbe7f796",
   "metadata": {},
   "outputs": [],
   "source": [
    "V_p_p = 5\n",
    "R_2 = 100e3\n",
    "C_1 = 220e-12\n",
    "\n",
    "R_1 =   [22e3,   10e3,   47e3,   68e3,   100e3,  220e3,  470e3,  1e6]\n",
    "f_min = [52.1e3, 52.1e3, 52.1e3, 52.1e3, 52.1e3, 52.1e3, 52.1e3, 52.1e3]"
   ]
  },
  {
   "cell_type": "markdown",
   "id": "0bfb084f",
   "metadata": {},
   "source": [
    "3.1.1.1 b"
   ]
  },
  {
   "cell_type": "code",
   "execution_count": 15,
   "id": "b455bd00",
   "metadata": {},
   "outputs": [],
   "source": [
    "V_p_p = 5\n",
    "R_1 = 22e3\n",
    "C_1 = 220e-12\n",
    "\n",
    "R_2 =   [10e3,  22e3,  47e3,   68e3,   100e3, 220e3,  470e3,  1e6]\n",
    "f_min = [296e3, 177e3, 98.7e3, 72.5e3, 52e3,  22.6e3, 12.5e3, 6.1e3]"
   ]
  },
  {
   "cell_type": "markdown",
   "id": "667534ea",
   "metadata": {},
   "source": [
    "3.1.1.1 c"
   ]
  },
  {
   "cell_type": "code",
   "execution_count": 16,
   "id": "ba35e77b",
   "metadata": {},
   "outputs": [],
   "source": [
    "V_p_p = 5\n",
    "R_1 = 22e3\n",
    "R_2 = 47e3\n",
    "\n",
    "C_1 =   [56e-12, 220e-12, 470e-12, 1e-9, 4.7e-9, 22e-9, 100e-9, 220e-9]\n",
    "f_min = [295e3,  98e3,    49e3,    24e3, 5.3e3,  1.2e3, 263   , 112]"
   ]
  },
  {
   "cell_type": "markdown",
   "id": "2ba21b76",
   "metadata": {},
   "source": [
    "3.1.1.2"
   ]
  },
  {
   "cell_type": "markdown",
   "id": "84a32d4b",
   "metadata": {},
   "source": [
    "For f_max 5V on VCO_1_IN"
   ]
  },
  {
   "cell_type": "code",
   "execution_count": 17,
   "id": "cdf4b782",
   "metadata": {},
   "outputs": [],
   "source": [
    "R_2 = 47e3\n",
    "C_1 = 220e-12\n",
    "\n",
    "R_1 =   [22e3,  10e3,  47e3,  68e3,  100e3, 220e3, 470e3, 1e6]\n",
    "f_max = [237e3, 345e3, 172e3, 151e3, 135e3, 116e3, 107e3, 103e3]"
   ]
  },
  {
   "cell_type": "markdown",
   "id": "bc609031",
   "metadata": {},
   "source": [
    "3.1.3"
   ]
  },
  {
   "cell_type": "code",
   "execution_count": null,
   "id": "f4d2a55d",
   "metadata": {},
   "outputs": [],
   "source": []
  },
  {
   "cell_type": "markdown",
   "id": "0d469907",
   "metadata": {},
   "source": [
    "3.1.2.1"
   ]
  },
  {
   "cell_type": "code",
   "execution_count": 18,
   "id": "9be39434",
   "metadata": {},
   "outputs": [],
   "source": [
    "R_1 = 22e3\n",
    "R_2 = 100e3\n",
    "C_1 = 220e-12\n",
    "\n",
    "V_in =  [0,     0.5,    1,      1.5,  2,    2.5,   3,     3.5,   4.0,   4.5,   5]\n",
    "f_vco = [52.e3, 52.1e3, 52.1e3, 57e3, 82e3, 112e3, 141e3, 170e3, 199e3, 208e3, 209e3]"
   ]
  },
  {
   "cell_type": "markdown",
   "id": "58f19bc8",
   "metadata": {},
   "source": [
    "3.1.3"
   ]
  },
  {
   "cell_type": "code",
   "execution_count": 20,
   "id": "09bda80e",
   "metadata": {},
   "outputs": [
    {
     "name": "stdout",
     "output_type": "stream",
     "text": [
      "2842.052555212417 Hz\n"
     ]
    }
   ],
   "source": [
    "R_f  = 56e3\n",
    "C_f = 1e-9\n",
    "\n",
    "f_c = get_cutoff(R_f, C_f)\n",
    "print(f\"{f_c} Hz\")\n",
    "\n",
    "f_H_min = 55e3\n",
    "f_H_max = 193e3\n",
    "\n",
    "f_f_min = 87e3\n",
    "f_f_max = 138e3"
   ]
  },
  {
   "cell_type": "markdown",
   "id": "b94e3a83",
   "metadata": {},
   "source": [
    "3.1.3.2"
   ]
  },
  {
   "cell_type": "code",
   "execution_count": 22,
   "id": "6572f741",
   "metadata": {},
   "outputs": [
    {
     "name": "stdout",
     "output_type": "stream",
     "text": [
      "284.2052555212417\n"
     ]
    }
   ],
   "source": [
    "R_f_max = 100e3\n",
    "C_f_min = 5.6e-9\n",
    "\n",
    "f_c_min = get_cutoff(R_f_max, C_f_min)\n",
    "print(f_c_min)\n",
    "\n",
    "f_H_max = 200e3\n",
    "f_H_min = 55e3\n",
    "f_f_max = 123e3\n",
    "f_f_min = 105e3"
   ]
  },
  {
   "cell_type": "markdown",
   "id": "79f59c46",
   "metadata": {},
   "source": [
    "3.1.3.3"
   ]
  },
  {
   "cell_type": "code",
   "execution_count": 23,
   "id": "4b1f15b0",
   "metadata": {},
   "outputs": [
    {
     "name": "stdout",
     "output_type": "stream",
     "text": [
      "28420.525552124167\n"
     ]
    }
   ],
   "source": [
    "R_f_min = 10e3\n",
    "C_f_min = 560e-12\n",
    "\n",
    "f_c_max = get_cutoff(R_f_min, C_f_min)\n",
    "print(f_c_max)\n",
    "\n",
    "f_H_max = 200e3\n",
    "f_f_max = 200e3\n",
    "f_H_min = 55e3\n",
    "f_f_min = 56e3"
   ]
  },
  {
   "cell_type": "markdown",
   "id": "e53418d0",
   "metadata": {},
   "source": [
    "3.1.3.5"
   ]
  },
  {
   "cell_type": "code",
   "execution_count": 24,
   "id": "e30a8674",
   "metadata": {},
   "outputs": [],
   "source": [
    "R_f = 10e3\n",
    "C_f = 1.8e-9\n",
    "\n",
    "f_H_max = 200e3\n",
    "f_f_max = 158e3\n",
    "f_H_min = 55e3\n",
    "f_f_min = 67e3"
   ]
  },
  {
   "cell_type": "markdown",
   "id": "83aa82c5",
   "metadata": {},
   "source": [
    "3.2.2 a"
   ]
  },
  {
   "cell_type": "code",
   "execution_count": null,
   "id": "ef69fac5",
   "metadata": {},
   "outputs": [],
   "source": [
    "RBW = 1e3\n",
    "VBW = 30\n",
    "span = 50e3\n",
    "\n",
    "freq_offset = [1e3, 2e3, 5e3, 10e3, 25e3]\n",
    "\n"
   ]
  },
  {
   "cell_type": "markdown",
   "id": "ada7427c",
   "metadata": {},
   "source": [
    "3.2.2 b"
   ]
  }
 ],
 "metadata": {
  "kernelspec": {
   "display_name": ".venv",
   "language": "python",
   "name": "python3"
  },
  "language_info": {
   "codemirror_mode": {
    "name": "ipython",
    "version": 3
   },
   "file_extension": ".py",
   "mimetype": "text/x-python",
   "name": "python",
   "nbconvert_exporter": "python",
   "pygments_lexer": "ipython3",
   "version": "3.13.0"
  }
 },
 "nbformat": 4,
 "nbformat_minor": 5
}
