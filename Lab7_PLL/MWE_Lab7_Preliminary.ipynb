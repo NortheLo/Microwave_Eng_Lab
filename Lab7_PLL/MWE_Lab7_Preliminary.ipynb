{
 "cells": [
  {
   "cell_type": "code",
   "execution_count": 8,
   "id": "3cabea4d",
   "metadata": {},
   "outputs": [],
   "source": [
    "import numpy as np"
   ]
  },
  {
   "cell_type": "markdown",
   "id": "353a776f",
   "metadata": {},
   "source": [
    "## 2.3. Circuit of the VCO in the HEF4046BT"
   ]
  },
  {
   "cell_type": "markdown",
   "id": "1dab185d",
   "metadata": {},
   "source": [
    "For solving the exercise we used the following\n",
    "[HEF4046BT datasheet](https://assets.nexperia.com/documents/data-sheet/HEF4046B.pdf) (last accessed on 10. May)"
   ]
  },
  {
   "cell_type": "markdown",
   "id": "c3e5a205",
   "metadata": {},
   "source": [
    "### 2.3.1 What is the purpose of $R_1$, $R_2$ and $C_1$ ?"
   ]
  },
  {
   "cell_type": "markdown",
   "id": "4f2f641e",
   "metadata": {},
   "source": [
    "According to the datasheet $R_1$, $R_2$ and $C_1$ are connected to the pins 11, 12 and for $C_1$ its across 6 and 7. <br>\n",
    "$R_1$ and $C_1$ determine the frequency range of the VCO and $R_2$ can be used to set a frequency offset. <br>\n",
    "The recommended range for the $R_1$ and $R_2$: $10k\\Omega \\leq R \\leq 1M\\Omega$. <br>\n",
    "For the capacitor: $50pF \\leq C$"
   ]
  },
  {
   "cell_type": "markdown",
   "id": "9617242a",
   "metadata": {},
   "source": [
    "### 2.3.2 Determine $R_1$ and $C_1$ for max. operating range between $50kHz$ and $200kHz$"
   ]
  },
  {
   "cell_type": "markdown",
   "id": "bb06941c",
   "metadata": {},
   "source": [
    "Given values: <br>\n",
    "- $R_2 = 100k\\Omega$\n",
    "- $V_{DD} = 5V$ <br>"
   ]
  },
  {
   "cell_type": "markdown",
   "id": "67985e5d",
   "metadata": {},
   "source": [
    "Taking Fig.7 from the datasheet to determine $C_1$. <br>\n",
    "Using Line 6 as it calculated with the given values, we get for $f_{min}=50kHz$ a value of $C_1 = 15 \\cdot 10^3 \\cdot 10^{-12}F = 15nF$. The screenshot is below. <br>\n",
    "For determining the $R_1$ value, we take Fig. 8 and calculate the ratio $\\frac{f_{max}}{f_min} = \\frac{200kHz}{50kHz} = 4 $. <br>\n",
    "From the grap we get for the ratio $\\frac{R_2}{R_1} = 4$. So $R_1 = 24k\\Omega$. The screenshot is also below. <br>\n",
    "![title](f_min_c2.png) <br>\n",
    "![title](r2_r1_bw.png) <br>"
   ]
  },
  {
   "cell_type": "markdown",
   "id": "f6afb197",
   "metadata": {},
   "source": [
    "## 2.4. Frequency divider of the ADF 4113"
   ]
  },
  {
   "cell_type": "markdown",
   "id": "6a4a3e58",
   "metadata": {},
   "source": [
    "For solving the exercise we used the following\n",
    "[ADF4113 datasheet](https://www.analog.com/media/en/technical-documentation/data-sheets/ADF4110_4111_4112_4113.pdf) (last accessed on 10. May)"
   ]
  },
  {
   "cell_type": "markdown",
   "id": "d2c37f9e",
   "metadata": {},
   "source": [
    "### 2.4.1 How must the divider ratio $n$ be chosen if $1.7GHz$, $1.75GHz$ and $1.8 GHz$ are to be output?"
   ]
  },
  {
   "cell_type": "code",
   "execution_count": 9,
   "id": "f16311e6",
   "metadata": {},
   "outputs": [
    {
     "name": "stdout",
     "output_type": "stream",
     "text": [
      "The divider ratios are: [170. 175. 180.]\n"
     ]
    }
   ],
   "source": [
    "f_ref = 10e6\n",
    "f = np.array([1.7e9, 1.75e9, 1.8e9])\n",
    "\n",
    "n = np.divide(f, f_ref)\n",
    "print(f\"The divider ratios are: {n}\")"
   ]
  },
  {
   "cell_type": "markdown",
   "id": "2d412f50",
   "metadata": {},
   "source": [
    "### 2.4.2 Can $1.755GHz$ also be realized? What divider ratios must / would then be used and how long must / would they be applied in relation to each other?"
   ]
  },
  {
   "cell_type": "markdown",
   "id": "74fddf8a",
   "metadata": {},
   "source": [
    "Yes, with fractional-N dividers, it is possible to achieve higher frequency resolution than with only integer-N PLLs. \n",
    "These dividers allow the division ratio to be a fractional number, not just an integer. \n",
    "Instead of using a fixed divider N, the system rapidly alternates between two integer divider values, N and N+1, for short periods of time.\n",
    "The effective division factor (n_eff) is then the time-weighted average of the two dividers:"
   ]
  },
  {
   "cell_type": "markdown",
   "id": "ffa7c124",
   "metadata": {},
   "source": [
    "$$\n",
    "n_{\\text{eff}} = n + \\frac{T_{n+1}}{T_n + T_{n+1}}\n",
    "$$    "
   ]
  },
  {
   "cell_type": "markdown",
   "id": "dd520678",
   "metadata": {},
   "source": [
    "To realize the 1.755 GHz the devicer ratios can be calculated as the follwing."
   ]
  },
  {
   "cell_type": "code",
   "execution_count": null,
   "id": "1e23f558",
   "metadata": {},
   "outputs": [
    {
     "name": "stdout",
     "output_type": "stream",
     "text": [
      "Effective divider n_eff = 175.5\n",
      "Effective output frequency = 175.5 x 10 MHz = 1755.0 Mhz\n"
     ]
    }
   ],
   "source": [
    "def calc_neff(n: int, Tn: float, Tn1: float) -> float:\n",
    "    \"\"\"\n",
    "    Calculate the effective divider ratio for a fractional-N PLL.\n",
    "\n",
    "    Args:\n",
    "        n (int): Base divider value (integer part).\n",
    "        Tn (float): Time duration using divider n.\n",
    "        Tn1 (float): Time duration using divider n+1.\n",
    "\n",
    "    Returns:\n",
    "        float: Effective divider value n_eff.\n",
    "    \"\"\"\n",
    "    n_eff = n + Tn1 / (Tn + Tn1)\n",
    "    return n_eff\n",
    "\n",
    "def calc_feff(n: int, Tn: float, Tn1: float) -> float:\n",
    "    \"\"\"\n",
    "    Calculate the effective frequency at the output of the VCO\n",
    "    \n",
    "    Args: \n",
    "        n (int): Base divider value (integer part).\n",
    "        Tn (float): Time duration using divider n.\n",
    "        Tn1 (float): Time duration using divider n+1.\n",
    "    \"\"\"\n",
    "    f_eff = (n * Tn + (n+1) * Tn1) * 10e6 \n",
    "    return f_eff\n",
    "\n",
    "# Target: n_eff = 175.5\n",
    "n = 175\n",
    "Tn1 = 0.5  # Time at n+1\n",
    "Tn = 0.5   # Time at n\n",
    "\n",
    "n_eff = calc_neff(n, Tn, Tn1)\n",
    "print(f\"Effective divider n_eff = {n_eff}\")\n",
    "f_eff = calc_feff(n, Tn, Tn1) / 1e6\n",
    "print(f\"Effective output frequency = 175.5 x 10 MHz = {f_eff:.1f} Mhz\")"
   ]
  },
  {
   "cell_type": "markdown",
   "id": "fe9a2c61",
   "metadata": {},
   "source": [
    "The resulting devider rations are 175 and 176 with duty cycles of 50%."
   ]
  },
  {
   "cell_type": "markdown",
   "id": "d1b8f212",
   "metadata": {},
   "source": [
    "### 2.4.3 What are / would be the values at 1.752 GHz?"
   ]
  },
  {
   "cell_type": "markdown",
   "id": "048bdc38",
   "metadata": {},
   "source": [
    "The effective necessary division radtio is 1752 MHz / 10 MHz = 157.2\n",
    "To calculate the time duratio for each division rate, we use the functions from above."
   ]
  },
  {
   "cell_type": "code",
   "execution_count": 16,
   "id": "52aa7fdb",
   "metadata": {},
   "outputs": [
    {
     "name": "stdout",
     "output_type": "stream",
     "text": [
      "Effective divider n_eff = 175.2\n",
      "Effective output frequency = 175.5 x 10 MHz = 1752.0 Mhz\n"
     ]
    }
   ],
   "source": [
    "n = 175\n",
    "Tn1 = 0.2\n",
    "Tn = 0.8\n",
    "n_eff = calc_neff(n, Tn, Tn1)\n",
    "print(f\"Effective divider n_eff = {n_eff}\")\n",
    "f_eff = calc_feff(n, Tn, Tn1) / 1000000\n",
    "print(f\"Effective output frequency = 175.5 x 10 MHz = {f_eff:.1f} Mhz\")"
   ]
  },
  {
   "cell_type": "markdown",
   "id": "5f6883f3",
   "metadata": {},
   "source": [
    "To reach the 1.752 GHz, the dividor ratios are 175 and 176 with a duty cycle of 20% for 175."
   ]
  }
 ],
 "metadata": {
  "kernelspec": {
   "display_name": "base",
   "language": "python",
   "name": "python3"
  },
  "language_info": {
   "codemirror_mode": {
    "name": "ipython",
    "version": 3
   },
   "file_extension": ".py",
   "mimetype": "text/x-python",
   "name": "python",
   "nbconvert_exporter": "python",
   "pygments_lexer": "ipython3",
   "version": "3.11.7"
  }
 },
 "nbformat": 4,
 "nbformat_minor": 5
}
