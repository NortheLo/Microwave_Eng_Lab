{
 "cells": [
  {
   "cell_type": "markdown",
   "id": "353a776f",
   "metadata": {},
   "source": [
    "## 2.3. Circuit of the VCO in the HEF4046BT"
   ]
  },
  {
   "cell_type": "markdown",
   "id": "c3e5a205",
   "metadata": {},
   "source": [
    "### 2.3.1 What is the purpose of $R_1$, $R_2$ and $C_1$ ?"
   ]
  },
  {
   "cell_type": "markdown",
   "id": "4f2f641e",
   "metadata": {},
   "source": [
    "According to the datasheet $R_1$, $R_2$ and $C_1$ are connected to the pins 11, 12 and for $C_1$ its across 6 and 7. <br>\n",
    "$R_1$ and $C_1$ determine the frequency range of the VCO and $R_2$ can be used to set a frequency offset. <br>\n",
    "The recommended range for the $R_1$ and $R_2$: $10k\\Omega \\leq R \\leq 1M\\Omega$. <br>\n",
    "For the capacitor: $50pF \\leq C$"
   ]
  },
  {
   "cell_type": "markdown",
   "id": "9617242a",
   "metadata": {},
   "source": [
    "### 2.3.2 Determine $R_1$ and $C_1$ for max. operating range between $50kHz$ and $200kHz$"
   ]
  },
  {
   "cell_type": "markdown",
   "id": "bb06941c",
   "metadata": {},
   "source": [
    "Given values: <br>\n",
    "- $R_2 = 100k\\Omega$\n",
    "- $V_{DD} = 5V$\n",
    "Taking Fig.7 from the datasheet to determine $C_1$. <br>\n",
    "Using Line 6 as it calculated with the given values, we get for $f_{min}=50kHz$ a value of $C_1 = 15 \\cdot 10^3 \\cdot 10^{-12}F = 15nF$. The screenshot is below. <br>\n",
    "For determining the $R_1$ value, we take Fig. 8 and calculate the ratio $\\frac{f_{max}}{f_min} = \\frac{200kHz}{50kHz} = 4 $. <br>\n",
    "From the grap we get for the ratio $\\frac{R_2}{R_1} = 4$. So $R_1 = 24k\\Omega$. The screenshot is also below. <br>\n",
    "![title](f_min_c2.png) <br>\n",
    "![title](r2_r1_bw.png) <br>"
   ]
  }
 ],
 "metadata": {
  "language_info": {
   "name": "python"
  }
 },
 "nbformat": 4,
 "nbformat_minor": 5
}
